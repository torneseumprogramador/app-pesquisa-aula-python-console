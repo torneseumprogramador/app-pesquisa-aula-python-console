{
  "cells": [
    {
      "cell_type": "markdown",
      "source": [
        "# **Treinando um pouco sobre o python**"
      ],
      "metadata": {
        "id": "3z0F-pDUdfNA"
      }
    },
    {
      "cell_type": "code",
      "source": [
        "!python --version # executar um comando lá no servidor vendo qual versão do python está disponível"
      ],
      "metadata": {
        "id": "DxGzI_Kydm6V",
        "outputId": "93078e48-839c-4c7c-ef72-5fe74e5a1d34",
        "colab": {
          "base_uri": "https://localhost:8080/"
        }
      },
      "execution_count": null,
      "outputs": [
        {
          "output_type": "stream",
          "name": "stdout",
          "text": [
            "Python 3.10.11\n"
          ]
        }
      ]
    },
    {
      "cell_type": "code",
      "source": [
        "import csv\n",
        "\n",
        "# abre o arquivo CSV para leitura\n",
        "with open('/content/pesquisas.csv', 'r') as arquivo_csv:\n",
        "    leitor_csv = csv.reader(arquivo_csv)\n",
        "    # # iterando sobre cada linha do arquivo CSV\n",
        "    for linha in leitor_csv:\n",
        "        print(f\"Email: {linha[0]}\")\n",
        "        print(f\"Marca: {linha[1]}\")\n",
        "        print(f\"Cor: {linha[2]}\")\n",
        "        print(f\"Faixa: {linha[3]}\")\n",
        "        print(f\"Observação: {linha[4]}\")\n",
        "        print(\"=\" * 60)\n",
        "\n"
      ],
      "metadata": {
        "colab": {
          "base_uri": "https://localhost:8080/"
        },
        "id": "cjynIvlueYmC",
        "outputId": "0c27aef2-02b1-4533-8f9d-18734fbf0a8b"
      },
      "execution_count": 10,
      "outputs": [
        {
          "output_type": "stream",
          "name": "stdout",
          "text": [
            "Email: danilo@teste.com\n",
            "Marca: Mercedes\n",
            "Cor: Preto\n",
            "Faixa: 120.000,00\n",
            "Observação: O carro ideal é aquele que é confortável e não quebra\n",
            "============================================================\n",
            "Email: liah@gmail.com\n",
            "Marca: VW\n",
            "Cor: Verde\n",
            "Faixa: 50.000,00\n",
            "Observação: Que me leve onde eu quero\n",
            "============================================================\n"
          ]
        }
      ]
    },
    {
      "cell_type": "code",
      "source": [
        "import csv\n",
        "\n",
        "qtd_preto = 0\n",
        "# abre o arquivo CSV para leitura\n",
        "with open('/content/pesquisas.csv', 'r') as arquivo_csv:\n",
        "    leitor_csv = csv.reader(arquivo_csv)\n",
        "    # # iterando sobre cada linha do arquivo CSV\n",
        "    for linha in leitor_csv:\n",
        "        if linha[2].lower().strip() == \"preto\":\n",
        "          qtd_preto += 1\n",
        "        print(f\"Email: {linha[0]}\")\n",
        "        print(f\"Marca: {linha[1]}\")\n",
        "        print(f\"Cor: {linha[2]}\")\n",
        "        print(f\"Faixa: {linha[3]}\")\n",
        "        print(f\"Observação: {linha[4]}\")\n",
        "        print(\"=\" * 60)\n",
        "\n",
        "print(f\"A quantidade de preto é: {qtd_preto}\")"
      ],
      "metadata": {
        "colab": {
          "base_uri": "https://localhost:8080/"
        },
        "id": "iAZV58wff60m",
        "outputId": "61d5e118-0b07-4907-b2b3-fd03931665f2"
      },
      "execution_count": 14,
      "outputs": [
        {
          "output_type": "stream",
          "name": "stdout",
          "text": [
            "Email: danilo@teste.com\n",
            "Marca: Mercedes\n",
            "Cor: Preto\n",
            "Faixa: 120.000,00\n",
            "Observação: O carro ideal é aquele que é confortável e não quebra\n",
            "============================================================\n",
            "Email: liah@gmail.com\n",
            "Marca: VW\n",
            "Cor: Verde\n",
            "Faixa: 50.000,00\n",
            "Observação: Que me leve onde eu quero\n",
            "============================================================\n",
            "A quantidade de preto é: 1\n"
          ]
        }
      ]
    },
    {
      "cell_type": "code",
      "source": [
        "!python -m pip install pandas # instalar a bibilhoteca pandas no servidor"
      ],
      "metadata": {
        "colab": {
          "base_uri": "https://localhost:8080/"
        },
        "id": "grRtyLOzhMVj",
        "outputId": "d6c5b12c-2e82-4341-868a-290970bcaea4"
      },
      "execution_count": 15,
      "outputs": [
        {
          "output_type": "stream",
          "name": "stdout",
          "text": [
            "Looking in indexes: https://pypi.org/simple, https://us-python.pkg.dev/colab-wheels/public/simple/\n",
            "Requirement already satisfied: pandas in /usr/local/lib/python3.10/dist-packages (1.5.3)\n",
            "Requirement already satisfied: numpy>=1.21.0 in /usr/local/lib/python3.10/dist-packages (from pandas) (1.22.4)\n",
            "Requirement already satisfied: python-dateutil>=2.8.1 in /usr/local/lib/python3.10/dist-packages (from pandas) (2.8.2)\n",
            "Requirement already satisfied: pytz>=2020.1 in /usr/local/lib/python3.10/dist-packages (from pandas) (2022.7.1)\n",
            "Requirement already satisfied: six>=1.5 in /usr/local/lib/python3.10/dist-packages (from python-dateutil>=2.8.1->pandas) (1.16.0)\n"
          ]
        }
      ]
    },
    {
      "cell_type": "code",
      "source": [
        "import pandas as pd\n",
        "\n",
        "# ======== Extract ==========\n",
        "# lê o arquivo CSV para um DataFrame\n",
        "df = pd.read_csv('/content/pesquisas.csv', header=None)\n",
        "\n",
        "# display(df)\n",
        "\n",
        "# df = pd.read_csv('/content/pesquisas-com-colunas.csv')\n",
        "\n",
        "# display(df)\n",
        "\n",
        "# ======== Transform ==========\n",
        "\n",
        "# seleciona a coluna \"Cor\" pelo índice\n",
        "cor = df.iloc[:, 2]\n",
        "\n",
        "# conta a quantidade de veículos por cor\n",
        "qtd_por_cor = cor.value_counts()\n",
        "\n",
        "# # imprime a quantidade de veículos por cor\n",
        "print(qtd_por_cor)\n",
        "\n",
        "\n",
        "# ======== Load ==========\n",
        "qtd_por_cor.to_csv('quantidade_por_cor.csv')"
      ],
      "metadata": {
        "colab": {
          "base_uri": "https://localhost:8080/"
        },
        "id": "XuMPFvWXhHek",
        "outputId": "dd78966c-617d-46f6-fbb1-b215b611cf8d"
      },
      "execution_count": 23,
      "outputs": [
        {
          "output_type": "stream",
          "name": "stdout",
          "text": [
            "Preto    1\n",
            "Verde    1\n",
            "Name: 2, dtype: int64\n"
          ]
        }
      ]
    }
  ],
  "metadata": {
    "colab": {
      "provenance": []
    },
    "kernelspec": {
      "display_name": "Python 3",
      "name": "python3"
    }
  },
  "nbformat": 4,
  "nbformat_minor": 0
}